{
 "cells": [
  {
   "cell_type": "code",
   "execution_count": 77,
   "id": "stretch-boating",
   "metadata": {},
   "outputs": [
    {
     "name": "stdout",
     "output_type": "stream",
     "text": [
      "base 1.0033333333333332\n",
      "    period       apy\n",
      "0        1  3.369092\n",
      "1        6  1.220997\n",
      "2       11  1.116074\n",
      "3       16  1.075958\n",
      "4       21  1.058203\n",
      "5       26  1.047691\n",
      "6       31  1.037284\n",
      "7       36  1.033838\n",
      "8       41  1.026980\n",
      "9       46  1.023568\n",
      "10      51  1.023568\n",
      "11      56  1.020167\n",
      "12      61  1.016778\n",
      "13      66  1.016778\n",
      "14      71  1.016778\n",
      "15      76  1.013400\n",
      "16      81  1.013400\n",
      "17      86  1.013400\n",
      "18      91  1.013400\n",
      "19      96  1.010033\n"
     ]
    }
   ],
   "source": [
    "import math\n",
    "import pandas as pd\n",
    "principle=3000\n",
    "fee=50\n",
    "rewards_rate = 0.02\n",
    "\n",
    "def cl(principle, fee, rewards_rate):\n",
    "    if(rewards_rate*principle-fee<0):\n",
    "        print('no need to get rewards within a year')\n",
    "        return\n",
    "    rewards=rewards_rate*principle\n",
    "    print('base', 1-fee/principle+rewards_rate)\n",
    "    ps=[]\n",
    "    apys=[]\n",
    "    for period in range(1,100,5):\n",
    "        apy= math.pow( 1-fee/principle+rewards_rate, int(365/period))\n",
    "        ps.append(period)\n",
    "        apys.append(apy)\n",
    "    df=pd.DataFrame({'period':ps, 'apy': apys })\n",
    "    return df\n",
    "df=cl(principle,fee, rewards_rate)\n",
    "print(df.to_string())"
   ]
  },
  {
   "cell_type": "code",
   "execution_count": 84,
   "id": "medical-charlotte",
   "metadata": {},
   "outputs": [
    {
     "data": {
      "image/png": "[encoded data removed]",
      "text/plain": [
       "<Figure size 432x288 with 1 Axes>"
      ]
     },
     "metadata": {
      "needs_background": "light"
     },
     "output_type": "display_data"
    }
   ],
   "source": [
    "import matplotlib.pyplot as plt\n",
    "start = 2\n",
    "x=df['period'][start:]\n",
    "y=apys[start:]\n",
    "plt.scatter(x, y)\n",
    "plt.show()"
   ]
  },
  {
   "cell_type": "code",
   "execution_count": null,
   "id": "considered-pricing",
   "metadata": {},
   "outputs": [],
   "source": []
  }
 ],
 "metadata": {
  "kernelspec": {
   "display_name": "Python 3",
   "language": "python",
   "name": "python3"
  },
  "language_info": {
   "codemirror_mode": {
    "name": "ipython",
    "version": 3
   },
   "file_extension": ".py",
   "mimetype": "text/x-python",
   "name": "python",
   "nbconvert_exporter": "python",
   "pygments_lexer": "ipython3",
   "version": "3.7.1"
  }
 },
 "nbformat": 4,
 "nbformat_minor": 5
}
